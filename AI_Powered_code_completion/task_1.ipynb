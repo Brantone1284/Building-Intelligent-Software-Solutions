{
 "cells": [
  {
   "cell_type": "code",
   "execution_count": 2,
   "id": "15602258",
   "metadata": {},
   "outputs": [
    {
     "data": {
      "text/plain": [
       "[{'name': 'Alice', 'age': 13},\n",
       " {'name': 'Ann', 'age': 30},\n",
       " {'name': 'Alex', 'age': 18},\n",
       " {'name': 'Zaddock', 'age': 32},\n",
       " {'name': 'Emmanuel', 'age': 20},\n",
       " {'name': 'Eucabeth', 'age': 25}]"
      ]
     },
     "execution_count": 2,
     "metadata": {},
     "output_type": "execute_result"
    }
   ],
   "source": [
    "#list of dictionaries to be sorted\n",
    "data = [\n",
    "    {'name':'Alice','age':13},\n",
    "    {'name':'Ann','age':30},\n",
    "    {'name':'Alex','age':18},\n",
    "    {'name':'Zaddock','age':32},\n",
    "    {'name':'Emmanuel','age':20},\n",
    "    {'name':'Eucabeth','age':25}\n",
    "]\n",
    "data"
   ]
  },
  {
   "cell_type": "code",
   "execution_count": 3,
   "id": "aedb7e1c",
   "metadata": {},
   "outputs": [
    {
     "name": "stdout",
     "output_type": "stream",
     "text": [
      "[{'name': 'Alice', 'age': 13}, {'name': 'Alex', 'age': 18}, {'name': 'Emmanuel', 'age': 20}, {'name': 'Eucabeth', 'age': 25}, {'name': 'Ann', 'age': 30}, {'name': 'Zaddock', 'age': 32}]\n"
     ]
    }
   ],
   "source": [
    "#MANUAL IMPLEMENTATION\n",
    "from operator import itemgetter\n",
    "def sort_dicts_manual(dict_list,key):\n",
    "    return sorted(dict_list,key=itemgetter(key))\n",
    "print(sort_dicts_manual(data,'age'))"
   ]
  },
  {
   "cell_type": "code",
   "execution_count": null,
   "id": "b64235cc",
   "metadata": {},
   "outputs": [
    {
     "name": "stdout",
     "output_type": "stream",
     "text": [
      "[{'name': 'Alice', 'age': 13}, {'name': 'Alex', 'age': 18}, {'name': 'Emmanuel', 'age': 20}, {'name': 'Eucabeth', 'age': 25}, {'name': 'Ann', 'age': 30}, {'name': 'Zaddock', 'age': 32}]\n"
     ]
    }
   ],
   "source": [
    "#AI IMPLEMENTATION\n",
    "#wite a function to sort the list of dictionaries by age\n",
    "def sort_by_AI(data):\n",
    "    \"\"\"\n",
    "        Sort a list of dictionaries by a specific key in descending order.\n",
    "    Args:\n",
    "        dict_list (list): List of dictionaries.\n",
    "        key (str): Key to sort by.\n",
    "    Returns:\n",
    "        list: Sorted list of dictionaries in descending order.\n",
    "    \"\"\"\n",
    "    return sorted(data, key=lambda x: x['age'])\n",
    "print(sort_by_AI(data=data))"
   ]
  },
  {
   "cell_type": "code",
   "execution_count": 5,
   "id": "3a539d04",
   "metadata": {},
   "outputs": [
    {
     "name": "stdout",
     "output_type": "stream",
     "text": [
      "Manual: 0.10446099998080172\n",
      "AI: 0.20760199998039752\n"
     ]
    }
   ],
   "source": [
    "#BENCHMARKING - use testit module to measure the execution time of each implementation\n",
    "import timeit\n",
    "data = [{\"name\": f\"Person{i}\", \"age\": i % 50} for i in range(1000)]\n",
    "print(\"Manual:\", timeit.timeit(lambda: sort_dicts_manual(data, \"age\"), number=1000))\n",
    "print(\"AI:\", timeit.timeit(lambda: sort_by_AI(data), number=1000))"
   ]
  },
  {
   "cell_type": "markdown",
   "id": "e1b3e881",
   "metadata": {},
   "source": [
    "### Analysis\n",
    "\n",
    "* I implemented a Python function to sort a list of dictionaries by a specific key, comparing a manual solution with GitHub Copilot’s suggestion. The manual function used itemgetter from the operator module, while Copilot suggested a lambda function with sorted(). Both correctly sorted a list like [{\"name\": \"Alice\", \"age\": 13}, {\"name\": \"Alex\", \"age\": 18}] by age. Benchmarking with timeit on a 1000-item list showed the manual implementation was faster (0.1045s vs. 0.2076s for 1000 runs), as itemgetter is implemented in C, reducing overhead compared to Python’s lambda.\n",
    "\n",
    "* Copilot’s code was readable, with a clear docstring, but lacked error handling for missing keys, which the manual version could add. The AI solution is ideal for rapid prototyping, as it’s quick to generate and syntactically correct, but the manual approach excels in performance-critical applications due to its efficiency."
   ]
  },
  {
   "cell_type": "markdown",
   "id": "01cc3421",
   "metadata": {},
   "source": []
  },
  {
   "cell_type": "code",
   "execution_count": null,
   "id": "0d7d848e",
   "metadata": {},
   "outputs": [],
   "source": []
  }
 ],
 "metadata": {
  "kernelspec": {
   "display_name": "base",
   "language": "python",
   "name": "python3"
  },
  "language_info": {
   "codemirror_mode": {
    "name": "ipython",
    "version": 3
   },
   "file_extension": ".py",
   "mimetype": "text/x-python",
   "name": "python",
   "nbconvert_exporter": "python",
   "pygments_lexer": "ipython3",
   "version": "3.12.4"
  }
 },
 "nbformat": 4,
 "nbformat_minor": 5
}
