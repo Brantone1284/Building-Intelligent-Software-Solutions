{
 "cells": [
  {
   "cell_type": "markdown",
   "id": "6ad7fd1d-f31b-4dbf-a8df-b3e29dd6a098",
   "metadata": {},
   "source": [
    "# Manual Implementation"
   ]
  },
  {
   "cell_type": "code",
   "execution_count": 2,
   "id": "2a419a8f-bb2e-48c0-ba75-7c2ebfc615c7",
   "metadata": {},
   "outputs": [],
   "source": [
    "def sort_dict_list_manual(dict_list, key):\n",
    "    \"\"\"\n",
    "    Sort a list of dictionaries by a specified key.\n",
    "    Args:\n",
    "        dict_list: List of dictionaries\n",
    "        key: Key to sort by\n",
    "    Returns:\n",
    "        Sorted list of dictionaries\n",
    "    \"\"\"\n",
    "    return sorted(dict_list, key=lambda x: x[key])"
   ]
  },
  {
   "cell_type": "markdown",
   "id": "1612a69e-fa41-47c5-941b-6cb69c0cd7ca",
   "metadata": {},
   "source": [
    "## AI-Suggested Implementation (simulated Copilot suggestion)"
   ]
  },
  {
   "cell_type": "code",
   "execution_count": 4,
   "id": "783d97cb-2a11-4c70-ae46-e9bf8d2268c2",
   "metadata": {},
   "outputs": [],
   "source": [
    "def sort_dict_list_ai(dict_list, key):\n",
    "    \"\"\"\n",
    "    Sort a list of dictionaries by a specified key using itemgetter for efficiency.\n",
    "    Args:\n",
    "        dict_list: List of dictionaries\n",
    "        key: Key to sort by\n",
    "    Returns:\n",
    "        Sorted list of dictionaries\n",
    "    \"\"\"\n",
    "    from operator import itemgetter\n",
    "    return sorted(dict_list, key=itemgetter(key))"
   ]
  },
  {
   "cell_type": "markdown",
   "id": "4325723e-3a5a-460d-a90e-f822e632bfee",
   "metadata": {},
   "source": [
    "## Example usage"
   ]
  },
  {
   "cell_type": "code",
   "execution_count": 5,
   "id": "3b459401-fb7d-4bc4-9f6b-01ef57bc4300",
   "metadata": {},
   "outputs": [],
   "source": [
    "data = [\n",
    "    {\"name\": \"Alice\", \"age\": 30},\n",
    "    {\"name\": \"Bob\", \"age\": 25},\n",
    "    {\"name\": \"Charlie\", \"age\": 35}\n",
    "]"
   ]
  },
  {
   "cell_type": "markdown",
   "id": "3cbdbbc7-bce4-49e1-b282-de262b0667b7",
   "metadata": {},
   "source": [
    "## Test both functions"
   ]
  },
  {
   "cell_type": "code",
   "execution_count": 6,
   "id": "20c7caca-14bf-431f-9716-af671b02dd18",
   "metadata": {},
   "outputs": [
    {
     "name": "stdout",
     "output_type": "stream",
     "text": [
      "Sorted Manually: [{'name': 'Bob', 'age': 25}, {'name': 'Alice', 'age': 30}, {'name': 'Charlie', 'age': 35}]\n",
      "Sorted with AI: [{'name': 'Bob', 'age': 25}, {'name': 'Alice', 'age': 30}, {'name': 'Charlie', 'age': 35}]\n"
     ]
    }
   ],
   "source": [
    "sorted_manual = sort_dict_list_manual(data, \"age\")\n",
    "sorted_ai = sort_dict_list_ai(data, \"age\")\n",
    "print(\"Sorted Manually:\", sorted_manual)\n",
    "print(\"Sorted with AI:\", sorted_ai)"
   ]
  },
  {
   "cell_type": "code",
   "execution_count": null,
   "id": "cd7f23b9-95cd-4799-a4dd-17b6e74aac58",
   "metadata": {},
   "outputs": [],
   "source": []
  }
 ],
 "metadata": {
  "kernelspec": {
   "display_name": "anaconda-panel-2023.05-py310",
   "language": "python",
   "name": "conda-env-anaconda-panel-2023.05-py310-py"
  },
  "language_info": {
   "codemirror_mode": {
    "name": "ipython",
    "version": 3
   },
   "file_extension": ".py",
   "mimetype": "text/x-python",
   "name": "python",
   "nbconvert_exporter": "python",
   "pygments_lexer": "ipython3",
   "version": "3.11.5"
  }
 },
 "nbformat": 4,
 "nbformat_minor": 5
}
